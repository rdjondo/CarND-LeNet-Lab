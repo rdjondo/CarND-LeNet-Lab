{
 "cells": [
  {
   "cell_type": "markdown",
   "metadata": {},
   "source": [
    "# LeNet Lab\n",
    "![LeNet Architecture](lenet.png)\n",
    "Source: Yan LeCun"
   ]
  },
  {
   "cell_type": "markdown",
   "metadata": {},
   "source": [
    "## Load Data\n",
    "\n",
    "Load the MNIST data, which comes pre-loaded with TensorFlow.\n",
    "\n",
    "You do not need to modify this section."
   ]
  },
  {
   "cell_type": "code",
   "execution_count": 1,
   "metadata": {
    "collapsed": false
   },
   "outputs": [
    {
     "name": "stdout",
     "output_type": "stream",
     "text": [
      "Extracting MNIST_data/train-images-idx3-ubyte.gz\n",
      "Extracting MNIST_data/train-labels-idx1-ubyte.gz\n",
      "Extracting MNIST_data/t10k-images-idx3-ubyte.gz\n",
      "Extracting MNIST_data/t10k-labels-idx1-ubyte.gz\n",
      "\n",
      "Image Shape: (28, 28, 1)\n",
      "\n",
      "Training Set:   55000 samples\n",
      "Validation Set: 5000 samples\n",
      "Test Set:       10000 samples\n"
     ]
    }
   ],
   "source": [
    "from tensorflow.examples.tutorials.mnist import input_data\n",
    "\n",
    "mnist = input_data.read_data_sets(\"MNIST_data/\", reshape=False)\n",
    "X_train, y_train           = mnist.train.images, mnist.train.labels\n",
    "X_validation, y_validation = mnist.validation.images, mnist.validation.labels\n",
    "X_test, y_test             = mnist.test.images, mnist.test.labels\n",
    "\n",
    "assert(len(X_train) == len(y_train))\n",
    "assert(len(X_validation) == len(y_validation))\n",
    "assert(len(X_test) == len(y_test))\n",
    "\n",
    "print()\n",
    "print(\"Image Shape: {}\".format(X_train[0].shape))\n",
    "print()\n",
    "print(\"Training Set:   {} samples\".format(len(X_train)))\n",
    "print(\"Validation Set: {} samples\".format(len(X_validation)))\n",
    "print(\"Test Set:       {} samples\".format(len(X_test)))"
   ]
  },
  {
   "cell_type": "markdown",
   "metadata": {},
   "source": [
    "The MNIST data that TensorFlow pre-loads comes as 28x28x1 images.\n",
    "\n",
    "However, the LeNet architecture only accepts 32x32xC images, where C is the number of color channels.\n",
    "\n",
    "In order to reformat the MNIST data into a shape that LeNet will accept, we pad the data with two rows of zeros on the top and bottom, and two columns of zeros on the left and right (28+2+2 = 32).\n",
    "\n",
    "You do not need to modify this section."
   ]
  },
  {
   "cell_type": "code",
   "execution_count": 2,
   "metadata": {
    "collapsed": false
   },
   "outputs": [
    {
     "name": "stdout",
     "output_type": "stream",
     "text": [
      "Updated Image Shape: (32, 32, 1)\n"
     ]
    }
   ],
   "source": [
    "import numpy as np\n",
    "\n",
    "# Pad images with 0s\n",
    "X_train      = np.pad(X_train, ((0,0),(2,2),(2,2),(0,0)), 'constant')\n",
    "X_validation = np.pad(X_validation, ((0,0),(2,2),(2,2),(0,0)), 'constant')\n",
    "X_test       = np.pad(X_test, ((0,0),(2,2),(2,2),(0,0)), 'constant')\n",
    "    \n",
    "print(\"Updated Image Shape: {}\".format(X_train[0].shape))"
   ]
  },
  {
   "cell_type": "markdown",
   "metadata": {},
   "source": [
    "## Visualize Data\n",
    "\n",
    "View a sample from the dataset.\n",
    "\n",
    "You do not need to modify this section."
   ]
  },
  {
   "cell_type": "code",
   "execution_count": 3,
   "metadata": {
    "collapsed": false
   },
   "outputs": [
    {
     "name": "stdout",
     "output_type": "stream",
     "text": [
      "6\n"
     ]
    },
    {
     "data": {
      "image/png": "[encoded data removed]",
      "text/plain": [
       "<matplotlib.figure.Figure at 0x7fc3b4546940>"
      ]
     },
     "metadata": {},
     "output_type": "display_data"
    }
   ],
   "source": [
    "import random\n",
    "import numpy as np\n",
    "import matplotlib.pyplot as plt\n",
    "%matplotlib inline\n",
    "\n",
    "index = random.randint(0, len(X_train))\n",
    "image = X_train[index].squeeze()\n",
    "\n",
    "plt.figure(figsize=(1,1))\n",
    "plt.imshow(image, cmap=\"gray\")\n",
    "print(y_train[index])"
   ]
  },
  {
   "cell_type": "markdown",
   "metadata": {},
   "source": [
    "## Preprocess Data\n",
    "\n",
    "Shuffle the training data.\n",
    "\n",
    "You do not need to modify this section."
   ]
  },
  {
   "cell_type": "code",
   "execution_count": 4,
   "metadata": {
    "collapsed": false
   },
   "outputs": [],
   "source": [
    "from sklearn.utils import shuffle\n",
    "\n",
    "X_train, y_train = shuffle(X_train, y_train)"
   ]
  },
  {
   "cell_type": "markdown",
   "metadata": {},
   "source": [
    "## Setup TensorFlow\n",
    "The `EPOCH` and `BATCH_SIZE` values affect the training speed and model accuracy.\n",
    "\n",
    "You do not need to modify this section."
   ]
  },
  {
   "cell_type": "code",
   "execution_count": 5,
   "metadata": {
    "collapsed": true
   },
   "outputs": [],
   "source": [
    "import tensorflow as tf\n",
    "\n",
    "EPOCHS = 10\n",
    "BATCH_SIZE = 128"
   ]
  },
  {
   "cell_type": "markdown",
   "metadata": {},
   "source": [
    "## TODO: Implement LeNet-5\n",
    "Implement the [LeNet-5](http://yann.lecun.com/exdb/lenet/) neural network architecture.\n",
    "\n",
    "This is the only cell you need to edit.\n",
    "### Input\n",
    "The LeNet architecture accepts a 32x32xC image as input, where C is the number of color channels. Since MNIST images are grayscale, C is 1 in this case.\n",
    "\n",
    "### Architecture\n",
    "**Layer 1: Convolutional.** The output shape should be 28x28x6.\n",
    "\n",
    "**Activation.** Your choice of activation function.\n",
    "\n",
    "**Pooling.** The output shape should be 14x14x6.\n",
    "\n",
    "**Layer 2: Convolutional.** The output shape should be 10x10x16.\n",
    "\n",
    "**Activation.** Your choice of activation function.\n",
    "\n",
    "**Pooling.** The output shape should be 5x5x16.\n",
    "\n",
    "**Flatten.** Flatten the output shape of the final pooling layer such that it's 1D instead of 3D. The easiest way to do is by using `tf.contrib.layers.flatten`, which is already imported for you.\n",
    "\n",
    "**Layer 3: Fully Connected.** This should have 120 outputs.\n",
    "\n",
    "**Activation.** Your choice of activation function.\n",
    "\n",
    "**Layer 4: Fully Connected.** This should have 84 outputs.\n",
    "\n",
    "**Activation.** Your choice of activation function.\n",
    "\n",
    "**Layer 5: Fully Connected (Logits).** This should have 10 outputs.\n",
    "\n",
    "### Output\n",
    "Return the result of the 2nd fully connected layer."
   ]
  },
  {
   "cell_type": "code",
   "execution_count": 6,
   "metadata": {
    "collapsed": false
   },
   "outputs": [
    {
     "name": "stdout",
     "output_type": "stream",
     "text": [
      "10\n"
     ]
    }
   ],
   "source": [
    "# Calculate weights shape for a \"VALID\" padding convolution\n",
    "import math\n",
    "def conv_weight_shape(in_height=28, filter_height=3, strides=1):\n",
    "    out_height = math.ceil(float(in_height - filter_height + 1) / float(strides))\n",
    "    return out_height\n",
    "\n",
    "# Let's try!\n",
    "print(conv_weight_shape(in_height=14, filter_height=5, strides=1))\n"
   ]
  },
  {
   "cell_type": "code",
   "execution_count": 7,
   "metadata": {
    "collapsed": true
   },
   "outputs": [],
   "source": [
    "# Creating reusable function for creating weights and naming them in the network\n",
    "def add_weights(weights_dict, name, shape, stddev=0.2):\n",
    "    weights_dict[name] = tf.Variable(tf.random_normal(shape, stddev=stddev), name=name)\n",
    "    return weights_dict\n",
    "\n",
    "# Creating reusable function for creating weights and naming them in the network\n",
    "def add_bias(bias_dict, name, shape, mean=0.1, stddev=0.05):\n",
    "    bias_dict[name] = tf.Variable(tf.random_normal(shape, mean=mean, stddev=stddev), name=name)\n",
    "    return bias_dict"
   ]
  },
  {
   "cell_type": "code",
   "execution_count": 8,
   "metadata": {
    "collapsed": true
   },
   "outputs": [],
   "source": [
    "# Creating reusable function for creating convolutional layer\n",
    "# weights_dict is in the form {'weight_name1' : weights_values1, ...}\n",
    "def conv2d(x, weights_dict,weights_name, bias_dict, bias_name, strides=1, padding='VALID'):\n",
    "    x = tf.nn.conv2d(x, weights_dict[weights_name], strides=[1, strides, strides,  1], padding=padding)\n",
    "    x = tf.nn.bias_add(x, bias_dict[bias_name])\n",
    "    return tf.nn.relu(x)"
   ]
  },
  {
   "cell_type": "code",
   "execution_count": 42,
   "metadata": {
    "collapsed": false
   },
   "outputs": [
    {
     "name": "stdout",
     "output_type": "stream",
     "text": [
      "shape [5, 5, 1, 6]\n",
      "conv_layer1: Tensor(\"Relu_86:0\", shape=(?, 28, 28, 6), dtype=float32)\n",
      "pooling_layer1: Tensor(\"MaxPool_37:0\", shape=(?, 14, 14, 6), dtype=float32)\n",
      "conv_layer2: Tensor(\"Relu_88:0\", shape=(?, 10, 10, 16), dtype=float32)\n",
      "layer2: Tensor(\"Relu_89:0\", shape=(?, 10, 10, 16), dtype=float32)\n",
      "pooling_layer2: Tensor(\"MaxPool_38:0\", shape=(?, 5, 5, 16), dtype=float32)\n",
      "flat_layer2: Tensor(\"Flatten_12/Reshape:0\", shape=(?, 400), dtype=float32)\n",
      "full_layer3: Tensor(\"add_12:0\", shape=(?, 120), dtype=float32)\n",
      "layer3: Tensor(\"Relu_90:0\", shape=(?, 120), dtype=float32)\n",
      "full_layer4: Tensor(\"add_13:0\", shape=(?, 84), dtype=float32)\n",
      "layer3: Tensor(\"Relu_91:0\", shape=(?, 84), dtype=float32)\n",
      "full_layer5: Tensor(\"add_14:0\", shape=(?, 10), dtype=float32)\n"
     ]
    }
   ],
   "source": [
    "## DRAFT\n",
    "\n",
    "weights = dict()\n",
    "biases = dict()\n",
    "\n",
    "x = tf.placeholder(tf.float32, (None, 32, 32, 1))\n",
    "y = tf.placeholder(tf.int32, (None))\n",
    "\n",
    "# TODO: Layer 1: Output = 28x28x6.\n",
    "in_channels =  x.get_shape()[-1].value\n",
    "shape = [filter_height, filter_width, in_channels, out_channels] = [5, 5, in_channels, 6]\n",
    "print('shape',shape)\n",
    "weights =  add_weights(weights, 'w1_conv', shape)\n",
    "biases =  add_bias(biases, 'b1_conv', [shape[-1]])\n",
    "conv_layer1 = conv2d(x, weights,'w1_conv', biases, 'b1_conv')\n",
    "\n",
    "# TODO: Activation.\n",
    "layer1 = tf.nn.relu(conv_layer1)\n",
    "print('conv_layer1:',conv_layer1)\n",
    "\n",
    "# TODO: Pooling. Input = 28x28x6. Output = 14x14x6\n",
    "pool_strides = pool_filter_shape = [1, 2, 2, 1]\n",
    "padding = 'VALID'\n",
    "pooling_layer1 = tf.nn.max_pool(layer1, pool_filter_shape, pool_strides, padding)\n",
    "print('pooling_layer1:',pooling_layer1)\n",
    "\n",
    "# TODO: Layer 2: Convolutional. Output = 10x10x16.\n",
    "in_channels =  pooling_layer1.get_shape()[-1].value\n",
    "shape = [filter_height, filter_width, in_channels, out_channels] = [5, 5, in_channels, 16]\n",
    "weights =  add_weights(weights, 'w2_conv', shape)\n",
    "biases =  add_bias(biases, 'b2_conv', [shape[-1]])\n",
    "conv_layer2 = conv2d(pooling_layer1, weights,'w2_conv', biases, 'b2_conv')\n",
    "print('conv_layer2:',conv_layer2)\n",
    "\n",
    "\n",
    "# TODO: Activation.\n",
    "layer2 = tf.nn.relu(conv_layer2)\n",
    "print('layer2:',layer2)\n",
    "\n",
    "\n",
    "# TODO: Pooling. Input = 10x10x16. Output = 5x5x16.\n",
    "pooling_layer2 = tf.nn.max_pool(layer2, pool_filter_shape, pool_strides, padding)\n",
    "print('pooling_layer2:',pooling_layer2)\n",
    "\n",
    "# TODO: Flatten. Input = 5x5x16. Output = 400.\n",
    "flat_layer2 = tf.contrib.layers.flatten(pooling_layer2,[400])\n",
    "print('flat_layer2:',flat_layer2)\n",
    "\n",
    "# TODO: Layer 3: Fully Connected. Input = 400. Output = 120.\n",
    "in_channels =  flat_layer2.get_shape()[-1].value\n",
    "shape = [in_channels, 120]\n",
    "weights = add_weights(weights,  'w3_full', shape)\n",
    "bias = add_bias(weights,  'b3_full', [shape[-1]])\n",
    "full_layer3 = tf.matmul(flat_layer2, weights['w3_full'])+bias['b3_full']\n",
    "print('full_layer3:',full_layer3)\n",
    "\n",
    "# TODO: Activation.\n",
    "layer3 = tf.nn.relu(full_layer3)\n",
    "print('layer3:',layer3)\n",
    "\n",
    "# TODO: Layer 4: Fully Connected. Input = 120. Output = 84.\n",
    "in_channels =  layer3.get_shape()[-1].value\n",
    "shape = [in_channels, 84]\n",
    "weights = add_weights(weights,  'w4_full', shape)\n",
    "bias = add_bias(weights,  'b4_full', [shape[-1]])\n",
    "full_layer4 = tf.matmul(layer3, weights['w4_full'])+bias['b4_full']\n",
    "print('full_layer4:',full_layer4)\n",
    "\n",
    "\n",
    "# TODO: Activation.\n",
    "layer4 = tf.nn.relu(full_layer4)\n",
    "print('layer3:',layer4)\n",
    "\n",
    "\n",
    "# TODO: Layer 5: Fully Connected. Input = 84. Output = 10.\n",
    "in_channels =  layer4.get_shape()[-1].value\n",
    "shape = [in_channels, 10]\n",
    "weights = add_weights(weights,  'w5_full', shape)\n",
    "bias = add_bias(weights,  'b5_full', [shape[-1]])\n",
    "full_layer5 = tf.matmul(layer4, weights['w5_full'])+bias['b5_full']\n",
    "print('full_layer5:',full_layer5)\n"
   ]
  },
  {
   "cell_type": "code",
   "execution_count": 43,
   "metadata": {
    "collapsed": true
   },
   "outputs": [],
   "source": [
    "from tensorflow.contrib.layers import flatten\n",
    "\n",
    "def LeNet(x):    \n",
    "    # Hyperparameters\n",
    "    mu = 0\n",
    "    sigma = 0.1\n",
    "    \n",
    "    weights = dict()\n",
    "    biases = dict()\n",
    "    \n",
    "    # TODO: Layer 1: Convolutional. Input = 32x32x1. Output = 28x28x6.\n",
    "    in_channels =  x.get_shape()[-1].value\n",
    "    shape = [filter_height, filter_width, in_channels, out_channels] = [5, 5, in_channels, 6]\n",
    "    weights =  add_weights(weights, 'w1_conv', shape)\n",
    "    biases =  add_bias(biases, 'b1_conv', [shape[-1]])\n",
    "    conv_layer1 = conv2d(x, weights,'w1_conv', biases, 'b1_conv')\n",
    "    \n",
    "    # TODO: Activation.\n",
    "    layer1 = tf.nn.relu(conv_layer1)\n",
    "    \n",
    "    # TODO: Pooling. Input = 28x28x6. Output = 14x14x6.\n",
    "    pool_strides = pool_filter_shape = [1, 2, 2, 1]\n",
    "    padding = 'VALID'\n",
    "    pooling_layer1 = tf.nn.max_pool(layer1, pool_filter_shape, pool_strides, padding)\n",
    "    \n",
    "    # TODO: Layer 2: Convolutional. Output = 10x10x16.\n",
    "    in_channels =  pooling_layer1.get_shape()[-1].value\n",
    "    shape = [filter_height, filter_width, in_channels, out_channels] = [5, 5, in_channels, 16]\n",
    "    weights =  add_weights(weights, 'w2_conv', shape)\n",
    "    biases =  add_bias(biases, 'b2_conv', [shape[-1]])\n",
    "    conv_layer2 = conv2d(pooling_layer1, weights,'w2_conv', biases, 'b2_conv')\n",
    "    \n",
    "    # TODO: Activation.\n",
    "    layer2 = tf.nn.relu(conv_layer2)\n",
    "    \n",
    "    # TODO: Pooling. Input = 10x10x16. Output = 5x5x16.\n",
    "    pooling_layer2 = tf.nn.max_pool(layer2, pool_filter_shape, pool_strides, padding)\n",
    "\n",
    "    # TODO: Flatten. Input = 5x5x16. Output = 400.\n",
    "    flat_layer2 = tf.contrib.layers.flatten(pooling_layer2,[400])\n",
    "    \n",
    "    # TODO: Layer 3: Fully Connected. Input = 400. Output = 120.\n",
    "    in_channels =  flat_layer2.get_shape()[-1].value\n",
    "    shape = [in_channels, 120]\n",
    "    weights = add_weights(weights,  'w3_full', shape)\n",
    "    bias = add_bias(weights,  'b3_full', [shape[-1]])\n",
    "    full_layer3 = tf.matmul(flat_layer2, weights['w3_full'])+bias['b3_full']\n",
    "\n",
    "    # TODO: Activation.\n",
    "    layer3 = tf.nn.relu(full_layer3)\n",
    "    \n",
    "    # TODO: Layer 4: Fully Connected. Input = 120. Output = 84.\n",
    "    in_channels =  layer3.get_shape()[-1].value\n",
    "    shape = [in_channels, 84]\n",
    "    weights = add_weights(weights,  'w4_full', shape)\n",
    "    bias = add_bias(weights,  'b4_full', [shape[-1]])\n",
    "    full_layer4 = tf.matmul(layer3, weights['w4_full'])+bias['b4_full']\n",
    "\n",
    "    # TODO: Activation.\n",
    "    layer4 = tf.nn.relu(full_layer4)\n",
    "    \n",
    "    # TODO: Layer 5: Fully Connected. Input = 84. Output = 10.\n",
    "    in_channels =  layer4.get_shape()[-1].value\n",
    "    shape = [in_channels, 10]\n",
    "    weights = add_weights(weights,  'w5_full', shape)\n",
    "    bias = add_bias(weights,  'b5_full', [shape[-1]])\n",
    "    full_layer5 = tf.matmul(layer4, weights['w5_full'])+bias['b5_full']\n",
    "    \n",
    "    logits = full_layer5\n",
    "    \n",
    "    return logits"
   ]
  },
  {
   "cell_type": "markdown",
   "metadata": {},
   "source": [
    "## Features and Labels\n",
    "Train LeNet to classify [MNIST](http://yann.lecun.com/exdb/mnist/) data.\n",
    "\n",
    "`x` is a placeholder for a batch of input images.\n",
    "`y` is a placeholder for a batch of output labels.\n",
    "\n",
    "You do not need to modify this section."
   ]
  },
  {
   "cell_type": "code",
   "execution_count": 44,
   "metadata": {
    "collapsed": false
   },
   "outputs": [],
   "source": [
    "x = tf.placeholder(tf.float32, (None, 32, 32, 1))\n",
    "y = tf.placeholder(tf.int32, (None))\n",
    "one_hot_y = tf.one_hot(y, 10)"
   ]
  },
  {
   "cell_type": "markdown",
   "metadata": {},
   "source": [
    "## Training Pipeline\n",
    "Create a training pipeline that uses the model to classify MNIST data.\n",
    "\n",
    "You do not need to modify this section."
   ]
  },
  {
   "cell_type": "code",
   "execution_count": 45,
   "metadata": {
    "collapsed": false
   },
   "outputs": [],
   "source": [
    "rate = 0.001\n",
    "\n",
    "logits = LeNet(x)\n",
    "cross_entropy = tf.nn.softmax_cross_entropy_with_logits(logits, one_hot_y)\n",
    "loss_operation = tf.reduce_mean(cross_entropy)\n",
    "optimizer = tf.train.AdamOptimizer(learning_rate = rate)\n",
    "training_operation = optimizer.minimize(loss_operation)"
   ]
  },
  {
   "cell_type": "markdown",
   "metadata": {},
   "source": [
    "## Model Evaluation\n",
    "Evaluate how well the loss and accuracy of the model for a given dataset.\n",
    "\n",
    "You do not need to modify this section."
   ]
  },
  {
   "cell_type": "code",
   "execution_count": 46,
   "metadata": {
    "collapsed": true
   },
   "outputs": [],
   "source": [
    "correct_prediction = tf.equal(tf.argmax(logits, 1), tf.argmax(one_hot_y, 1))\n",
    "accuracy_operation = tf.reduce_mean(tf.cast(correct_prediction, tf.float32))\n",
    "saver = tf.train.Saver()\n",
    "\n",
    "def evaluate(X_data, y_data):\n",
    "    num_examples = len(X_data)\n",
    "    total_accuracy = 0\n",
    "    sess = tf.get_default_session()\n",
    "    for offset in range(0, num_examples, BATCH_SIZE):\n",
    "        batch_x, batch_y = X_data[offset:offset+BATCH_SIZE], y_data[offset:offset+BATCH_SIZE]\n",
    "        accuracy = sess.run(accuracy_operation, feed_dict={x: batch_x, y: batch_y})\n",
    "        total_accuracy += (accuracy * len(batch_x))\n",
    "    return total_accuracy / num_examples"
   ]
  },
  {
   "cell_type": "markdown",
   "metadata": {},
   "source": [
    "## Train the Model\n",
    "Run the training data through the training pipeline to train the model.\n",
    "\n",
    "Before each epoch, shuffle the training set.\n",
    "\n",
    "After each epoch, measure the loss and accuracy of the validation set.\n",
    "\n",
    "Save the model after training.\n",
    "\n",
    "You do not need to modify this section."
   ]
  },
  {
   "cell_type": "code",
   "execution_count": 47,
   "metadata": {
    "collapsed": false
   },
   "outputs": [
    {
     "name": "stdout",
     "output_type": "stream",
     "text": [
      "Training...\n",
      "\n",
      "EPOCH 1 ...\n",
      "Validation Accuracy = 0.948\n",
      "\n",
      "EPOCH 2 ...\n",
      "Validation Accuracy = 0.972\n",
      "\n",
      "EPOCH 3 ...\n",
      "Validation Accuracy = 0.977\n",
      "\n",
      "EPOCH 4 ...\n",
      "Validation Accuracy = 0.977\n",
      "\n",
      "EPOCH 5 ...\n",
      "Validation Accuracy = 0.981\n",
      "\n",
      "EPOCH 6 ...\n",
      "Validation Accuracy = 0.982\n",
      "\n",
      "EPOCH 7 ...\n",
      "Validation Accuracy = 0.984\n",
      "\n",
      "EPOCH 8 ...\n",
      "Validation Accuracy = 0.986\n",
      "\n",
      "EPOCH 9 ...\n",
      "Validation Accuracy = 0.984\n",
      "\n",
      "EPOCH 10 ...\n",
      "Validation Accuracy = 0.986\n",
      "\n",
      "Model saved\n"
     ]
    }
   ],
   "source": [
    "with tf.Session() as sess:\n",
    "    sess.run(tf.global_variables_initializer())\n",
    "    num_examples = len(X_train)\n",
    "    \n",
    "    print(\"Training...\")\n",
    "    print()\n",
    "    for i in range(EPOCHS):\n",
    "        X_train, y_train = shuffle(X_train, y_train)\n",
    "        for offset in range(0, num_examples, BATCH_SIZE):\n",
    "            end = offset + BATCH_SIZE\n",
    "            batch_x, batch_y = X_train[offset:end], y_train[offset:end]\n",
    "            sess.run(training_operation, feed_dict={x: batch_x, y: batch_y})\n",
    "            \n",
    "        validation_accuracy = evaluate(X_validation, y_validation)\n",
    "        print(\"EPOCH {} ...\".format(i+1))\n",
    "        print(\"Validation Accuracy = {:.3f}\".format(validation_accuracy))\n",
    "        print()\n",
    "        \n",
    "    saver.save(sess, 'lenet')\n",
    "    print(\"Model saved\")"
   ]
  },
  {
   "cell_type": "markdown",
   "metadata": {},
   "source": [
    "## Evaluate the Model\n",
    "Once you are completely satisfied with your model, evaluate the performance of the model on the test set.\n",
    "\n",
    "Be sure to only do this once!\n",
    "\n",
    "If you were to measure the performance of your trained model on the test set, then improve your model, and then measure the performance of your model on the test set again, that would invalidate your test results. You wouldn't get a true measure of how well your model would perform against real data.\n",
    "\n",
    "You do not need to modify this section."
   ]
  },
  {
   "cell_type": "code",
   "execution_count": 48,
   "metadata": {
    "collapsed": false
   },
   "outputs": [
    {
     "name": "stdout",
     "output_type": "stream",
     "text": [
      "Test Accuracy = 0.986\n"
     ]
    }
   ],
   "source": [
    "with tf.Session() as sess:\n",
    "    saver.restore(sess, tf.train.latest_checkpoint('.'))\n",
    "\n",
    "    test_accuracy = evaluate(X_test, y_test)\n",
    "    print(\"Test Accuracy = {:.3f}\".format(test_accuracy))"
   ]
  },
  {
   "cell_type": "code",
   "execution_count": null,
   "metadata": {
    "collapsed": true
   },
   "outputs": [],
   "source": []
  }
 ],
 "metadata": {
  "anaconda-cloud": {},
  "kernelspec": {
   "display_name": "Python [default]",
   "language": "python",
   "name": "python3"
  },
  "language_info": {
   "codemirror_mode": {
    "name": "ipython",
    "version": 3
   },
   "file_extension": ".py",
   "mimetype": "text/x-python",
   "name": "python",
   "nbconvert_exporter": "python",
   "pygments_lexer": "ipython3",
   "version": "3.5.2"
  }
 },
 "nbformat": 4,
 "nbformat_minor": 0
}
